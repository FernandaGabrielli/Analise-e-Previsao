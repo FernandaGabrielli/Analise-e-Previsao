{
  "nbformat": 4,
  "nbformat_minor": 0,
  "metadata": {
    "colab": {
      "provenance": []
    },
    "kernelspec": {
      "name": "python3",
      "display_name": "Python 3"
    },
    "language_info": {
      "name": "python"
    }
  },
  "cells": [
    {
      "cell_type": "markdown",
      "source": [
        "##    Análise de Desempenho de Vendas e Calculadora de Previsão de Vendas\n",
        "O objetivo deste projeto é fornecer ferramentas para analisar o desempenho de vendas históricas e prever vendas futuras com base em dados passados. A análise de desempenho ajuda a identificar tendências, pontos fortes e áreas de melhoria, enquanto a calculadora de previsão de vendas utiliza algoritmos para estimar vendas futuras, auxiliando na tomada de decisões estratégicas."
      ],
      "metadata": {
        "id": "soQZOuf7uMNQ"
      }
    },
    {
      "cell_type": "code",
      "execution_count": 133,
      "metadata": {
        "colab": {
          "base_uri": "https://localhost:8080/"
        },
        "id": "ZJM-5wa9t-NW",
        "outputId": "9dd89b20-39f5-4030-a3a1-5aded9d146ed"
      },
      "outputs": [
        {
          "output_type": "stream",
          "name": "stdout",
          "text": [
            "Requirement already satisfied: pandas in /usr/local/lib/python3.11/dist-packages (2.2.2)\n",
            "Requirement already satisfied: numpy in /usr/local/lib/python3.11/dist-packages (1.26.4)\n",
            "Requirement already satisfied: scikit-learn in /usr/local/lib/python3.11/dist-packages (1.6.1)\n",
            "Requirement already satisfied: matplotlib in /usr/local/lib/python3.11/dist-packages (3.10.0)\n",
            "Requirement already satisfied: seaborn in /usr/local/lib/python3.11/dist-packages (0.13.2)\n",
            "Requirement already satisfied: python-dateutil>=2.8.2 in /usr/local/lib/python3.11/dist-packages (from pandas) (2.8.2)\n",
            "Requirement already satisfied: pytz>=2020.1 in /usr/local/lib/python3.11/dist-packages (from pandas) (2024.2)\n",
            "Requirement already satisfied: tzdata>=2022.7 in /usr/local/lib/python3.11/dist-packages (from pandas) (2025.1)\n",
            "Requirement already satisfied: scipy>=1.6.0 in /usr/local/lib/python3.11/dist-packages (from scikit-learn) (1.13.1)\n",
            "Requirement already satisfied: joblib>=1.2.0 in /usr/local/lib/python3.11/dist-packages (from scikit-learn) (1.4.2)\n",
            "Requirement already satisfied: threadpoolctl>=3.1.0 in /usr/local/lib/python3.11/dist-packages (from scikit-learn) (3.5.0)\n",
            "Requirement already satisfied: contourpy>=1.0.1 in /usr/local/lib/python3.11/dist-packages (from matplotlib) (1.3.1)\n",
            "Requirement already satisfied: cycler>=0.10 in /usr/local/lib/python3.11/dist-packages (from matplotlib) (0.12.1)\n",
            "Requirement already satisfied: fonttools>=4.22.0 in /usr/local/lib/python3.11/dist-packages (from matplotlib) (4.55.7)\n",
            "Requirement already satisfied: kiwisolver>=1.3.1 in /usr/local/lib/python3.11/dist-packages (from matplotlib) (1.4.8)\n",
            "Requirement already satisfied: packaging>=20.0 in /usr/local/lib/python3.11/dist-packages (from matplotlib) (24.2)\n",
            "Requirement already satisfied: pillow>=8 in /usr/local/lib/python3.11/dist-packages (from matplotlib) (11.1.0)\n",
            "Requirement already satisfied: pyparsing>=2.3.1 in /usr/local/lib/python3.11/dist-packages (from matplotlib) (3.2.1)\n",
            "Requirement already satisfied: six>=1.5 in /usr/local/lib/python3.11/dist-packages (from python-dateutil>=2.8.2->pandas) (1.17.0)\n"
          ]
        }
      ],
      "source": [
        "!pip install pandas numpy scikit-learn matplotlib seaborn"
      ]
    },
    {
      "cell_type": "markdown",
      "source": [
        "###Importando as bibliotecas"
      ],
      "metadata": {
        "id": "7jOOBYgYyJf1"
      }
    },
    {
      "cell_type": "code",
      "source": [
        "import pandas as pd\n",
        "import numpy as np\n",
        "import matplotlib.pyplot as plt\n",
        "import seaborn as sns\n",
        "import random\n",
        "\n",
        "from sklearn.model_selection import train_test_split\n",
        "from sklearn.linear_model import LinearRegression\n",
        "from sklearn.metrics import mean_absolute_error, mean_squared_error, r2_score\n",
        "from sklearn.preprocessing import MinMaxScaler\n",
        "from sklearn.ensemble import RandomForestRegressor\n",
        "from sklearn.model_selection import GridSearchCV"
      ],
      "metadata": {
        "id": "B0QgzL4ixiZO"
      },
      "execution_count": 134,
      "outputs": []
    },
    {
      "cell_type": "markdown",
      "source": [
        "###Criar o conjunto de dados\n"
      ],
      "metadata": {
        "id": "F1XEoeC9yWV0"
      }
    },
    {
      "cell_type": "code",
      "source": [
        "# Gerar o dataframe com dados de vendas para 36 meses com tendência e sazonalidade\n",
        "np.random.seed(42)\n",
        "months = pd.date_range('2021-01-01', periods=36, freq='M')\n",
        "sales = [random.randint(150, 500) + (i%12)*20 + (i//12)*100 for i in range(36)]  # Com tendência e sazonalidade\n",
        "\n",
        "df = pd.DataFrame({\n",
        "    'date': months,\n",
        "    'sales': sales\n",
        "})\n",
        "\n",
        "# Criar colunas de características temporais\n",
        "df['year'] = df['date'].dt.year\n",
        "df['month'] = df['date'].dt.month\n",
        "df['day_of_week'] = df['date'].dt.dayofweek\n",
        "df['quarter'] = df['date'].dt.quarter\n",
        "df['year_month'] = df['date'].dt.year * 12 + df['date'].dt.month\n",
        "\n",
        "# Visualizar as primeiras linhas\n",
        "print(df.head())\n"
      ],
      "metadata": {
        "colab": {
          "base_uri": "https://localhost:8080/"
        },
        "id": "QvNmBGORyaV6",
        "outputId": "f456a337-b837-4172-cb69-c8faa7d1c1a9"
      },
      "execution_count": 135,
      "outputs": [
        {
          "output_type": "stream",
          "name": "stdout",
          "text": [
            "        date  sales  year  month  day_of_week  quarter  year_month\n",
            "0 2021-01-31    356  2021      1            6        1       24253\n",
            "1 2021-02-28    422  2021      2            6        1       24254\n",
            "2 2021-03-31    449  2021      3            2        1       24255\n",
            "3 2021-04-30    329  2021      4            4        2       24256\n",
            "4 2021-05-31    414  2021      5            0        2       24257\n"
          ]
        },
        {
          "output_type": "stream",
          "name": "stderr",
          "text": [
            "<ipython-input-135-f979d38dbaa5>:3: FutureWarning: 'M' is deprecated and will be removed in a future version, please use 'ME' instead.\n",
            "  months = pd.date_range('2021-01-01', periods=36, freq='M')\n"
          ]
        }
      ]
    },
    {
      "cell_type": "markdown",
      "source": [
        "##### Data Exploration e visualização"
      ],
      "metadata": {
        "id": "7ZjZ1vi-0C82"
      }
    },
    {
      "cell_type": "code",
      "source": [
        "df.info()\n",
        "df.describe()"
      ],
      "metadata": {
        "colab": {
          "base_uri": "https://localhost:8080/",
          "height": 551
        },
        "id": "CeB7lcxj0CRQ",
        "outputId": "925a1f09-ec74-41db-a166-98c647c54c18"
      },
      "execution_count": 136,
      "outputs": [
        {
          "output_type": "stream",
          "name": "stdout",
          "text": [
            "<class 'pandas.core.frame.DataFrame'>\n",
            "RangeIndex: 36 entries, 0 to 35\n",
            "Data columns (total 7 columns):\n",
            " #   Column       Non-Null Count  Dtype         \n",
            "---  ------       --------------  -----         \n",
            " 0   date         36 non-null     datetime64[ns]\n",
            " 1   sales        36 non-null     int64         \n",
            " 2   year         36 non-null     int32         \n",
            " 3   month        36 non-null     int32         \n",
            " 4   day_of_week  36 non-null     int32         \n",
            " 5   quarter      36 non-null     int32         \n",
            " 6   year_month   36 non-null     int32         \n",
            "dtypes: datetime64[ns](1), int32(5), int64(1)\n",
            "memory usage: 1.4 KB\n"
          ]
        },
        {
          "output_type": "execute_result",
          "data": {
            "text/plain": [
              "                      date       sales         year     month  day_of_week  \\\n",
              "count                   36   36.000000    36.000000  36.00000    36.000000   \n",
              "mean   2022-07-15 22:00:00  573.305556  2022.000000   6.50000     2.972222   \n",
              "min    2021-01-31 00:00:00  329.000000  2021.000000   1.00000     0.000000   \n",
              "25%    2021-10-23 06:00:00  454.250000  2021.000000   3.75000     1.000000   \n",
              "50%    2022-07-15 12:00:00  580.000000  2022.000000   6.50000     3.000000   \n",
              "75%    2023-04-07 12:00:00  669.750000  2023.000000   9.25000     5.000000   \n",
              "max    2023-12-31 00:00:00  897.000000  2023.000000  12.00000     6.000000   \n",
              "std                    NaN  146.447225     0.828079   3.50102     2.063092   \n",
              "\n",
              "         quarter    year_month  \n",
              "count  36.000000     36.000000  \n",
              "mean    2.500000  24270.500000  \n",
              "min     1.000000  24253.000000  \n",
              "25%     1.750000  24261.750000  \n",
              "50%     2.500000  24270.500000  \n",
              "75%     3.250000  24279.250000  \n",
              "max     4.000000  24288.000000  \n",
              "std     1.133893     10.535654  "
            ],
            "text/html": [
              "\n",
              "  <div id=\"df-f77ecaa4-31da-45d8-a4f4-628c971240fc\" class=\"colab-df-container\">\n",
              "    <div>\n",
              "<style scoped>\n",
              "    .dataframe tbody tr th:only-of-type {\n",
              "        vertical-align: middle;\n",
              "    }\n",
              "\n",
              "    .dataframe tbody tr th {\n",
              "        vertical-align: top;\n",
              "    }\n",
              "\n",
              "    .dataframe thead th {\n",
              "        text-align: right;\n",
              "    }\n",
              "</style>\n",
              "<table border=\"1\" class=\"dataframe\">\n",
              "  <thead>\n",
              "    <tr style=\"text-align: right;\">\n",
              "      <th></th>\n",
              "      <th>date</th>\n",
              "      <th>sales</th>\n",
              "      <th>year</th>\n",
              "      <th>month</th>\n",
              "      <th>day_of_week</th>\n",
              "      <th>quarter</th>\n",
              "      <th>year_month</th>\n",
              "    </tr>\n",
              "  </thead>\n",
              "  <tbody>\n",
              "    <tr>\n",
              "      <th>count</th>\n",
              "      <td>36</td>\n",
              "      <td>36.000000</td>\n",
              "      <td>36.000000</td>\n",
              "      <td>36.00000</td>\n",
              "      <td>36.000000</td>\n",
              "      <td>36.000000</td>\n",
              "      <td>36.000000</td>\n",
              "    </tr>\n",
              "    <tr>\n",
              "      <th>mean</th>\n",
              "      <td>2022-07-15 22:00:00</td>\n",
              "      <td>573.305556</td>\n",
              "      <td>2022.000000</td>\n",
              "      <td>6.50000</td>\n",
              "      <td>2.972222</td>\n",
              "      <td>2.500000</td>\n",
              "      <td>24270.500000</td>\n",
              "    </tr>\n",
              "    <tr>\n",
              "      <th>min</th>\n",
              "      <td>2021-01-31 00:00:00</td>\n",
              "      <td>329.000000</td>\n",
              "      <td>2021.000000</td>\n",
              "      <td>1.00000</td>\n",
              "      <td>0.000000</td>\n",
              "      <td>1.000000</td>\n",
              "      <td>24253.000000</td>\n",
              "    </tr>\n",
              "    <tr>\n",
              "      <th>25%</th>\n",
              "      <td>2021-10-23 06:00:00</td>\n",
              "      <td>454.250000</td>\n",
              "      <td>2021.000000</td>\n",
              "      <td>3.75000</td>\n",
              "      <td>1.000000</td>\n",
              "      <td>1.750000</td>\n",
              "      <td>24261.750000</td>\n",
              "    </tr>\n",
              "    <tr>\n",
              "      <th>50%</th>\n",
              "      <td>2022-07-15 12:00:00</td>\n",
              "      <td>580.000000</td>\n",
              "      <td>2022.000000</td>\n",
              "      <td>6.50000</td>\n",
              "      <td>3.000000</td>\n",
              "      <td>2.500000</td>\n",
              "      <td>24270.500000</td>\n",
              "    </tr>\n",
              "    <tr>\n",
              "      <th>75%</th>\n",
              "      <td>2023-04-07 12:00:00</td>\n",
              "      <td>669.750000</td>\n",
              "      <td>2023.000000</td>\n",
              "      <td>9.25000</td>\n",
              "      <td>5.000000</td>\n",
              "      <td>3.250000</td>\n",
              "      <td>24279.250000</td>\n",
              "    </tr>\n",
              "    <tr>\n",
              "      <th>max</th>\n",
              "      <td>2023-12-31 00:00:00</td>\n",
              "      <td>897.000000</td>\n",
              "      <td>2023.000000</td>\n",
              "      <td>12.00000</td>\n",
              "      <td>6.000000</td>\n",
              "      <td>4.000000</td>\n",
              "      <td>24288.000000</td>\n",
              "    </tr>\n",
              "    <tr>\n",
              "      <th>std</th>\n",
              "      <td>NaN</td>\n",
              "      <td>146.447225</td>\n",
              "      <td>0.828079</td>\n",
              "      <td>3.50102</td>\n",
              "      <td>2.063092</td>\n",
              "      <td>1.133893</td>\n",
              "      <td>10.535654</td>\n",
              "    </tr>\n",
              "  </tbody>\n",
              "</table>\n",
              "</div>\n",
              "    <div class=\"colab-df-buttons\">\n",
              "\n",
              "  <div class=\"colab-df-container\">\n",
              "    <button class=\"colab-df-convert\" onclick=\"convertToInteractive('df-f77ecaa4-31da-45d8-a4f4-628c971240fc')\"\n",
              "            title=\"Convert this dataframe to an interactive table.\"\n",
              "            style=\"display:none;\">\n",
              "\n",
              "  <svg xmlns=\"http://www.w3.org/2000/svg\" height=\"24px\" viewBox=\"0 -960 960 960\">\n",
              "    <path d=\"M120-120v-720h720v720H120Zm60-500h600v-160H180v160Zm220 220h160v-160H400v160Zm0 220h160v-160H400v160ZM180-400h160v-160H180v160Zm440 0h160v-160H620v160ZM180-180h160v-160H180v160Zm440 0h160v-160H620v160Z\"/>\n",
              "  </svg>\n",
              "    </button>\n",
              "\n",
              "  <style>\n",
              "    .colab-df-container {\n",
              "      display:flex;\n",
              "      gap: 12px;\n",
              "    }\n",
              "\n",
              "    .colab-df-convert {\n",
              "      background-color: #E8F0FE;\n",
              "      border: none;\n",
              "      border-radius: 50%;\n",
              "      cursor: pointer;\n",
              "      display: none;\n",
              "      fill: #1967D2;\n",
              "      height: 32px;\n",
              "      padding: 0 0 0 0;\n",
              "      width: 32px;\n",
              "    }\n",
              "\n",
              "    .colab-df-convert:hover {\n",
              "      background-color: #E2EBFA;\n",
              "      box-shadow: 0px 1px 2px rgba(60, 64, 67, 0.3), 0px 1px 3px 1px rgba(60, 64, 67, 0.15);\n",
              "      fill: #174EA6;\n",
              "    }\n",
              "\n",
              "    .colab-df-buttons div {\n",
              "      margin-bottom: 4px;\n",
              "    }\n",
              "\n",
              "    [theme=dark] .colab-df-convert {\n",
              "      background-color: #3B4455;\n",
              "      fill: #D2E3FC;\n",
              "    }\n",
              "\n",
              "    [theme=dark] .colab-df-convert:hover {\n",
              "      background-color: #434B5C;\n",
              "      box-shadow: 0px 1px 3px 1px rgba(0, 0, 0, 0.15);\n",
              "      filter: drop-shadow(0px 1px 2px rgba(0, 0, 0, 0.3));\n",
              "      fill: #FFFFFF;\n",
              "    }\n",
              "  </style>\n",
              "\n",
              "    <script>\n",
              "      const buttonEl =\n",
              "        document.querySelector('#df-f77ecaa4-31da-45d8-a4f4-628c971240fc button.colab-df-convert');\n",
              "      buttonEl.style.display =\n",
              "        google.colab.kernel.accessAllowed ? 'block' : 'none';\n",
              "\n",
              "      async function convertToInteractive(key) {\n",
              "        const element = document.querySelector('#df-f77ecaa4-31da-45d8-a4f4-628c971240fc');\n",
              "        const dataTable =\n",
              "          await google.colab.kernel.invokeFunction('convertToInteractive',\n",
              "                                                    [key], {});\n",
              "        if (!dataTable) return;\n",
              "\n",
              "        const docLinkHtml = 'Like what you see? Visit the ' +\n",
              "          '<a target=\"_blank\" href=https://colab.research.google.com/notebooks/data_table.ipynb>data table notebook</a>'\n",
              "          + ' to learn more about interactive tables.';\n",
              "        element.innerHTML = '';\n",
              "        dataTable['output_type'] = 'display_data';\n",
              "        await google.colab.output.renderOutput(dataTable, element);\n",
              "        const docLink = document.createElement('div');\n",
              "        docLink.innerHTML = docLinkHtml;\n",
              "        element.appendChild(docLink);\n",
              "      }\n",
              "    </script>\n",
              "  </div>\n",
              "\n",
              "\n",
              "<div id=\"df-2f58d49e-09bb-422b-af42-24a81b9df69b\">\n",
              "  <button class=\"colab-df-quickchart\" onclick=\"quickchart('df-2f58d49e-09bb-422b-af42-24a81b9df69b')\"\n",
              "            title=\"Suggest charts\"\n",
              "            style=\"display:none;\">\n",
              "\n",
              "<svg xmlns=\"http://www.w3.org/2000/svg\" height=\"24px\"viewBox=\"0 0 24 24\"\n",
              "     width=\"24px\">\n",
              "    <g>\n",
              "        <path d=\"M19 3H5c-1.1 0-2 .9-2 2v14c0 1.1.9 2 2 2h14c1.1 0 2-.9 2-2V5c0-1.1-.9-2-2-2zM9 17H7v-7h2v7zm4 0h-2V7h2v10zm4 0h-2v-4h2v4z\"/>\n",
              "    </g>\n",
              "</svg>\n",
              "  </button>\n",
              "\n",
              "<style>\n",
              "  .colab-df-quickchart {\n",
              "      --bg-color: #E8F0FE;\n",
              "      --fill-color: #1967D2;\n",
              "      --hover-bg-color: #E2EBFA;\n",
              "      --hover-fill-color: #174EA6;\n",
              "      --disabled-fill-color: #AAA;\n",
              "      --disabled-bg-color: #DDD;\n",
              "  }\n",
              "\n",
              "  [theme=dark] .colab-df-quickchart {\n",
              "      --bg-color: #3B4455;\n",
              "      --fill-color: #D2E3FC;\n",
              "      --hover-bg-color: #434B5C;\n",
              "      --hover-fill-color: #FFFFFF;\n",
              "      --disabled-bg-color: #3B4455;\n",
              "      --disabled-fill-color: #666;\n",
              "  }\n",
              "\n",
              "  .colab-df-quickchart {\n",
              "    background-color: var(--bg-color);\n",
              "    border: none;\n",
              "    border-radius: 50%;\n",
              "    cursor: pointer;\n",
              "    display: none;\n",
              "    fill: var(--fill-color);\n",
              "    height: 32px;\n",
              "    padding: 0;\n",
              "    width: 32px;\n",
              "  }\n",
              "\n",
              "  .colab-df-quickchart:hover {\n",
              "    background-color: var(--hover-bg-color);\n",
              "    box-shadow: 0 1px 2px rgba(60, 64, 67, 0.3), 0 1px 3px 1px rgba(60, 64, 67, 0.15);\n",
              "    fill: var(--button-hover-fill-color);\n",
              "  }\n",
              "\n",
              "  .colab-df-quickchart-complete:disabled,\n",
              "  .colab-df-quickchart-complete:disabled:hover {\n",
              "    background-color: var(--disabled-bg-color);\n",
              "    fill: var(--disabled-fill-color);\n",
              "    box-shadow: none;\n",
              "  }\n",
              "\n",
              "  .colab-df-spinner {\n",
              "    border: 2px solid var(--fill-color);\n",
              "    border-color: transparent;\n",
              "    border-bottom-color: var(--fill-color);\n",
              "    animation:\n",
              "      spin 1s steps(1) infinite;\n",
              "  }\n",
              "\n",
              "  @keyframes spin {\n",
              "    0% {\n",
              "      border-color: transparent;\n",
              "      border-bottom-color: var(--fill-color);\n",
              "      border-left-color: var(--fill-color);\n",
              "    }\n",
              "    20% {\n",
              "      border-color: transparent;\n",
              "      border-left-color: var(--fill-color);\n",
              "      border-top-color: var(--fill-color);\n",
              "    }\n",
              "    30% {\n",
              "      border-color: transparent;\n",
              "      border-left-color: var(--fill-color);\n",
              "      border-top-color: var(--fill-color);\n",
              "      border-right-color: var(--fill-color);\n",
              "    }\n",
              "    40% {\n",
              "      border-color: transparent;\n",
              "      border-right-color: var(--fill-color);\n",
              "      border-top-color: var(--fill-color);\n",
              "    }\n",
              "    60% {\n",
              "      border-color: transparent;\n",
              "      border-right-color: var(--fill-color);\n",
              "    }\n",
              "    80% {\n",
              "      border-color: transparent;\n",
              "      border-right-color: var(--fill-color);\n",
              "      border-bottom-color: var(--fill-color);\n",
              "    }\n",
              "    90% {\n",
              "      border-color: transparent;\n",
              "      border-bottom-color: var(--fill-color);\n",
              "    }\n",
              "  }\n",
              "</style>\n",
              "\n",
              "  <script>\n",
              "    async function quickchart(key) {\n",
              "      const quickchartButtonEl =\n",
              "        document.querySelector('#' + key + ' button');\n",
              "      quickchartButtonEl.disabled = true;  // To prevent multiple clicks.\n",
              "      quickchartButtonEl.classList.add('colab-df-spinner');\n",
              "      try {\n",
              "        const charts = await google.colab.kernel.invokeFunction(\n",
              "            'suggestCharts', [key], {});\n",
              "      } catch (error) {\n",
              "        console.error('Error during call to suggestCharts:', error);\n",
              "      }\n",
              "      quickchartButtonEl.classList.remove('colab-df-spinner');\n",
              "      quickchartButtonEl.classList.add('colab-df-quickchart-complete');\n",
              "    }\n",
              "    (() => {\n",
              "      let quickchartButtonEl =\n",
              "        document.querySelector('#df-2f58d49e-09bb-422b-af42-24a81b9df69b button');\n",
              "      quickchartButtonEl.style.display =\n",
              "        google.colab.kernel.accessAllowed ? 'block' : 'none';\n",
              "    })();\n",
              "  </script>\n",
              "</div>\n",
              "\n",
              "    </div>\n",
              "  </div>\n"
            ],
            "application/vnd.google.colaboratory.intrinsic+json": {
              "type": "dataframe",
              "summary": "{\n  \"name\": \"df\",\n  \"rows\": 8,\n  \"fields\": [\n    {\n      \"column\": \"date\",\n      \"properties\": {\n        \"dtype\": \"date\",\n        \"min\": \"1970-01-01 00:00:00.000000036\",\n        \"max\": \"2023-12-31 00:00:00\",\n        \"num_unique_values\": 7,\n        \"samples\": [\n          \"36\",\n          \"2022-07-15 22:00:00\",\n          \"2023-04-07 12:00:00\"\n        ],\n        \"semantic_type\": \"\",\n        \"description\": \"\"\n      }\n    },\n    {\n      \"column\": \"sales\",\n      \"properties\": {\n        \"dtype\": \"number\",\n        \"std\": 282.2064795952471,\n        \"min\": 36.0,\n        \"max\": 897.0,\n        \"num_unique_values\": 8,\n        \"samples\": [\n          573.3055555555555,\n          669.75,\n          36.0\n        ],\n        \"semantic_type\": \"\",\n        \"description\": \"\"\n      }\n    },\n    {\n      \"column\": \"year\",\n      \"properties\": {\n        \"dtype\": \"number\",\n        \"std\": 927.5280191903466,\n        \"min\": 0.828078671210825,\n        \"max\": 2023.0,\n        \"num_unique_values\": 5,\n        \"samples\": [\n          2022.0,\n          0.828078671210825,\n          2021.0\n        ],\n        \"semantic_type\": \"\",\n        \"description\": \"\"\n      }\n    },\n    {\n      \"column\": \"month\",\n      \"properties\": {\n        \"dtype\": \"number\",\n        \"std\": 11.129631428470205,\n        \"min\": 1.0,\n        \"max\": 36.0,\n        \"num_unique_values\": 7,\n        \"samples\": [\n          36.0,\n          6.5,\n          12.0\n        ],\n        \"semantic_type\": \"\",\n        \"description\": \"\"\n      }\n    },\n    {\n      \"column\": \"day_of_week\",\n      \"properties\": {\n        \"dtype\": \"number\",\n        \"std\": 11.877926088154805,\n        \"min\": 0.0,\n        \"max\": 36.0,\n        \"num_unique_values\": 8,\n        \"samples\": [\n          2.9722222222222223,\n          5.0,\n          36.0\n        ],\n        \"semantic_type\": \"\",\n        \"description\": \"\"\n      }\n    },\n    {\n      \"column\": \"quarter\",\n      \"properties\": {\n        \"dtype\": \"number\",\n        \"std\": 11.956276647538953,\n        \"min\": 1.0,\n        \"max\": 36.0,\n        \"num_unique_values\": 7,\n        \"samples\": [\n          36.0,\n          2.5,\n          4.0\n        ],\n        \"semantic_type\": \"\",\n        \"description\": \"\"\n      }\n    },\n    {\n      \"column\": \"year_month\",\n      \"properties\": {\n        \"dtype\": \"number\",\n        \"std\": 11224.2943903424,\n        \"min\": 10.535653752852738,\n        \"max\": 24288.0,\n        \"num_unique_values\": 7,\n        \"samples\": [\n          36.0,\n          24270.5,\n          24288.0\n        ],\n        \"semantic_type\": \"\",\n        \"description\": \"\"\n      }\n    }\n  ]\n}"
            }
          },
          "metadata": {},
          "execution_count": 136
        }
      ]
    },
    {
      "cell_type": "code",
      "source": [
        "plt.figure(figsize=(12, 5)) #Lagura 12, altura 5\n",
        "sns.lineplot(x=df['date'], y=df['sales'], marker='o') #criar um graf de linha c/ os dados de vendas\n",
        "plt.title(\"Sales trend over time\") #titutlop\n",
        "plt.xlabel(\"Date\") # nome do eixo\n",
        "plt.ylabel(\"Number of Sales\")\n",
        "plt.grid(True) #adc grade p facilitar a visualização\n",
        "plt.show()"
      ],
      "metadata": {
        "colab": {
          "base_uri": "https://localhost:8080/",
          "height": 487
        },
        "id": "FCE-RTJ705Dc",
        "outputId": "1f2a09ea-3f0c-43b2-fa1b-755e29d69549"
      },
      "execution_count": 137,
      "outputs": [
        {
          "output_type": "display_data",
          "data": {
            "text/plain": [
              "<Figure size 1200x500 with 1 Axes>"
            ],
            "image/png": "[encoded data removed]"
          },
          "metadata": {}
        }
      ]
    },
    {
      "cell_type": "markdown",
      "source": [
        "####Preparar a data p/ treinar o modelo"
      ],
      "metadata": {
        "id": "QONbhVKM2sDg"
      }
    },
    {
      "cell_type": "code",
      "source": [],
      "metadata": {
        "id": "UMjNF_jVA9Ts"
      },
      "execution_count": 137,
      "outputs": []
    },
    {
      "cell_type": "markdown",
      "source": [
        "##### Treinar p modelos de predicao"
      ],
      "metadata": {
        "id": "9TSiWWgt3jze"
      }
    },
    {
      "cell_type": "code",
      "source": [
        "X = df[['year', 'month', 'day_of_week', 'quarter', 'year_month']]  # Features\n",
        "y = df['sales']  # Target\n",
        "\n",
        "\n",
        "# Dividir os dados 80/20 sets\n",
        "X_train, X_test, y_train, y_test = train_test_split(X, y, test_size=0.2, random_state=42)"
      ],
      "metadata": {
        "id": "bc0HLLEHA_QC"
      },
      "execution_count": 138,
      "outputs": []
    },
    {
      "cell_type": "code",
      "source": [
        "model = LinearRegression()\n",
        "model.fit(X_train, y_train)\n",
        "\n",
        "#verificar os coeficientes\n",
        "\n",
        "print(f\"Intercept: {model.intercept_}\")\n",
        "print(f\"Coefficients: {model.coef_}\")"
      ],
      "metadata": {
        "colab": {
          "base_uri": "https://localhost:8080/"
        },
        "id": "O-nnT0Fh3pmB",
        "outputId": "eecd7c1a-eac3-41a5-a2ae-74a3409f21ac"
      },
      "execution_count": 139,
      "outputs": [
        {
          "output_type": "stream",
          "name": "stdout",
          "text": [
            "Intercept: -194656.52054111435\n",
            "Coefficients: [  1.15267703  -5.88707837 -10.57190757  51.42626692   7.94504605]\n"
          ]
        }
      ]
    },
    {
      "cell_type": "code",
      "source": [
        "# Ajustando os parâmetros do Random Forest\n",
        "rf_model = RandomForestRegressor(n_estimators=300, max_depth=15, random_state=42)\n",
        "rf_model.fit(X_train, y_train)\n",
        "\n",
        "# Fazer previsões no conjunto de teste\n",
        "y_pred = rf_model.predict(X_test)\n",
        "\n",
        "# Avaliar a performance do modelo\n",
        "mae = mean_absolute_error(y_test, y_pred)\n",
        "mse = mean_squared_error(y_test, y_pred)\n",
        "r2 = r2_score(y_test, y_pred)\n",
        "\n",
        "print(f'MAE: {mae:.2f}')\n",
        "print(f'MSE: {mse:.2f}')\n",
        "print(f'R²: {r2:.2f}')"
      ],
      "metadata": {
        "colab": {
          "base_uri": "https://localhost:8080/"
        },
        "id": "D9C7mQLlBFuR",
        "outputId": "dd6d266f-159c-44b3-9f28-979117e6c06a"
      },
      "execution_count": 144,
      "outputs": [
        {
          "output_type": "stream",
          "name": "stdout",
          "text": [
            "MAE: 0.12\n",
            "MSE: 0.02\n",
            "R²: 0.62\n"
          ]
        }
      ]
    },
    {
      "cell_type": "code",
      "source": [
        "def predict_sales(year, month, day_of_week, quarter, year_month):\n",
        "    input_data = pd.DataFrame([[year, month, day_of_week, quarter, year_month]],\n",
        "                              columns=['year', 'month', 'day_of_week', 'quarter', 'year_month'])\n",
        "    prediction = rf_model.predict(input_data)\n",
        "    return round(scaler.inverse_transform(prediction.reshape(-1, 1))[0][0], 2)\n",
        "\n",
        "test_year = 2024\n",
        "test_month = 6\n",
        "day_of_week = 0\n",
        "quarter = 2\n",
        "year_month = test_year * 12 + test_month\n",
        "forecast = predict_sales(test_year, test_month, day_of_week, quarter, year_month)\n",
        "print(f\"Predicted sales for {test_month}/{test_year}: {forecast:.2f}\")"
      ],
      "metadata": {
        "colab": {
          "base_uri": "https://localhost:8080/"
        },
        "id": "R8lh6NAcG_Mr",
        "outputId": "9f14582d-220f-4d04-dc9e-1122fb261358"
      },
      "execution_count": 145,
      "outputs": [
        {
          "output_type": "stream",
          "name": "stdout",
          "text": [
            "Predicted sales for 6/2024: 763.30\n"
          ]
        }
      ]
    },
    {
      "cell_type": "markdown",
      "source": [
        "#Aprendizado\n",
        "\n",
        "Consegui gerar dados de forma consistente\n",
        "Usei corretamente  as métricas\n",
        "Predict_sales funcinou bem\n",
        "\n",
        "Erros:\n",
        "O modelo escolhido nao foi o melhor, o que resultou num resultado que nao dava um feat. Para essa situacao era extremamente necessario sazonalidade/ tendencia logo usando o RandomForestRegressor."
      ],
      "metadata": {
        "id": "byDhb2fmMeVD"
      }
    }
  ]
}